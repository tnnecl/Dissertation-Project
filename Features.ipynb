{
    "metadata": {
        "kernelspec": {
            "name": "SQL",
            "display_name": "SQL",
            "language": "sql"
        },
        "language_info": {
            "name": "sql",
            "version": ""
        }
    },
    "nbformat_minor": 2,
    "nbformat": 4,
    "cells": [
        {
            "cell_type": "code",
            "source": [
                "SELECT \n",
                "  A.[Rig],\n",
                "  FORMAT(MIN(A.[Processed_Date]), 'yyyy-MM-01') AS StartDate, \n",
                "  CONCAT(A.[Rig], FORMAT(MIN(A.[Processed_Date]), 'yyyyMM')) AS RigDateID,\n",
                "  SUM(A.[Total_Cards]) AS TotalCards_4m,\n",
                "  SUM(A.[Unsafe_Action_Count]) As Unsafe_Action_4m,\n",
                "  SUM(A.[Unsafe_Condition_Count]) As Unsafe_Condition_4m,\n",
                "  SUM(A.[Unsafe_Condition_Corrected_Count]) As Unsafe_Condition_Cor_4m,\n",
                "  SUM(A.[Positive_Observation_Count]) As Unsafe_Condition_4m,\n",
                "  SUM(A.[Negative_Observation_Count]) As Unsafe_Condition_4m,\n",
                "  SUM(A.[Active_Action_Taken_Count]) As Unsafe_Condition_4m,\n",
                "  SUM(A.[Low_Risk_Count]) As Unsafe_Condition_4m,\n",
                "  SUM(A.[Medium_Risk_Count]) As Unsafe_Condition_4m,\n",
                "  SUM(A.[High_Risk_Count]) As Unsafe_Condition_4m\n",
                "FROM \n",
                "  [dbo].[AlphaBetaList_New] A\n",
                "WHERE \n",
                "  A.[Company] LIKE '%Noble%'\n",
                "  AND A.[Processed_Date] >= '2021-07-01' \n",
                "  AND A.[Processed_Date] <= '2024-04-01'\n",
                "GROUP BY\n",
                "    A.[Rig] ,\n",
                "    FORMAT(A.[Processed_Date], 'yyyyMM')\n",
                "ORDER BY \n",
                "  FORMAT(MIN(A.[Processed_Date]), 'yyyy-MM-01') ASC;\n",
                ""
            ],
            "metadata": {
                "azdata_cell_guid": "7922207c-efbd-4580-a37a-fb3c69895b42",
                "language": "sql"
            },
            "outputs": [
                {
                    "output_type": "error",
                    "evalue": "Msg 208, Level 16, State 1, Line 1\nInvalid object name 'dbo.AlphaBetaList_New'.",
                    "ename": "",
                    "traceback": []
                },
                {
                    "output_type": "display_data",
                    "data": {
                        "text/html": "Total execution time: 00:00:00.114"
                    },
                    "metadata": {}
                }
            ],
            "execution_count": 1
        }
    ]
}